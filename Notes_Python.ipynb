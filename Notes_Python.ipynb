{
  "nbformat": 4,
  "nbformat_minor": 0,
  "metadata": {
    "colab": {
      "name": "Notes Python.ipynb",
      "provenance": [],
      "collapsed_sections": [],
      "authorship_tag": "ABX9TyOBKiOMnpEgVP1z68d5wThF",
      "include_colab_link": true
    },
    "kernelspec": {
      "name": "python3",
      "display_name": "Python 3"
    },
    "language_info": {
      "name": "python"
    }
  },
  "cells": [
    {
      "cell_type": "markdown",
      "metadata": {
        "id": "view-in-github",
        "colab_type": "text"
      },
      "source": [
        "<a href=\"https://colab.research.google.com/github/JM89/crash-courses/blob/main/Notes_Python.ipynb\" target=\"_parent\"><img src=\"https://colab.research.google.com/assets/colab-badge.svg\" alt=\"Open In Colab\"/></a>"
      ]
    },
    {
      "cell_type": "markdown",
      "metadata": {
        "id": "i_pHCFGsFKAB"
      },
      "source": [
        "# Asynchrous programming in Python\n",
        "\n",
        "Asynchronous programming allows to run a task separately from its main thread. Instead of waiting the end of the task, your main thread can do other things or start other tasks. When the task has finished, it notifies the main threads of its completion status. "
      ]
    },
    {
      "cell_type": "code",
      "metadata": {
        "id": "h2PzMWFHL5lc"
      },
      "source": [
        "names = ['Pierre', 'Paul', 'Jacques']\n",
        "\n",
        "def print_hello(name='Jack'):\n",
        "  print(f'Hello {name}')"
      ],
      "execution_count": null,
      "outputs": []
    },
    {
      "cell_type": "markdown",
      "metadata": {
        "id": "ZUA_dT-mLx6r"
      },
      "source": [
        "## Run multiple processes"
      ]
    },
    {
      "cell_type": "markdown",
      "metadata": {
        "id": "_TBUOfjrMuFC"
      },
      "source": [
        "Single process with no arguments:"
      ]
    },
    {
      "cell_type": "code",
      "metadata": {
        "colab": {
          "base_uri": "https://localhost:8080/"
        },
        "id": "ZTfthZ7BMgWO",
        "outputId": "853f9946-d6fd-4cad-890e-66db5b49515c"
      },
      "source": [
        "from multiprocessing import Process\n",
        "\n",
        "p = Process(target=print_hello)\n",
        "p.start()\n",
        "p.join()"
      ],
      "execution_count": null,
      "outputs": [
        {
          "output_type": "stream",
          "name": "stdout",
          "text": [
            "Hello Jack\n"
          ]
        }
      ]
    },
    {
      "cell_type": "markdown",
      "metadata": {
        "id": "ITe4qeWSNFio"
      },
      "source": [
        "Multiple processes with arguments:"
      ]
    },
    {
      "cell_type": "code",
      "metadata": {
        "colab": {
          "base_uri": "https://localhost:8080/"
        },
        "id": "l6zINoZYNIv-",
        "outputId": "7af3d4f0-3029-4ec6-cfdb-73e3e5a2a438"
      },
      "source": [
        "from multiprocessing import Process\n",
        "\n",
        "processes = []\n",
        "\n",
        "names = ['Pierre', 'Paul', 'Jacques']\n",
        "for name in names:\n",
        "  p = Process(target=print_hello, args=(name,))\n",
        "  processes.append(p)\n",
        "\n",
        "for p in processes:\n",
        "  p.start()\n",
        "  p.join()"
      ],
      "execution_count": null,
      "outputs": [
        {
          "output_type": "stream",
          "name": "stdout",
          "text": [
            "Hello Pierre\n",
            "Hello Paul\n",
            "Hello Jacques\n"
          ]
        }
      ]
    },
    {
      "cell_type": "markdown",
      "metadata": {
        "id": "3RMaUyOMN1GF"
      },
      "source": [
        "## Run multiple threads\n",
        "\n",
        "Similarly, we can use threads. You can have multiple threads in a single process and they can share resources."
      ]
    },
    {
      "cell_type": "code",
      "metadata": {
        "colab": {
          "base_uri": "https://localhost:8080/"
        },
        "id": "mDZ9oRxbN9DA",
        "outputId": "96c8dfa9-efb6-4386-fa3e-2e10b1b38915"
      },
      "source": [
        "import threading\n",
        "\n",
        "threads = []\n",
        "\n",
        "for name in names:\n",
        "  t = threading.Thread(target=print_hello, args=(name,))\n",
        "  threads.append(t)\n",
        "\n",
        "for t in threads:\n",
        "  t.start()\n",
        "  t.join()"
      ],
      "execution_count": null,
      "outputs": [
        {
          "output_type": "stream",
          "name": "stdout",
          "text": [
            "Hello Pierre\n",
            "Hello Paul\n",
            "Hello Jacques\n"
          ]
        }
      ]
    },
    {
      "cell_type": "markdown",
      "metadata": {
        "id": "oJceVqH_FUgl"
      },
      "source": [
        "## Run asynchronous code using asyncio\n",
        "\n",
        "**asyncio** allows to write single-threaded concurrent programs that utilize coroutines. Asyncio abstracts the complexity behind I/O, sockets, etc and proposes synchronisation primitives that make thread-safe programs. \n",
        "\n",
        "Other libraries have been built on top of asyncio, such as the HTTP wrapper **aiohttp**. \n",
        "\n",
        "Asyncio defines event loops for task management, coroutines (awaitable functions) and futures (awaited result).  \n",
        "\n",
        "With asyncio, the OS is not involved in the concurrency model. We use the **signal** library to create handlers that will then receive events from the OS (for instance CTRL+C) instead."
      ]
    },
    {
      "cell_type": "markdown",
      "metadata": {
        "id": "BBBygeCiIdlI"
      },
      "source": [
        "### Asynchronous HTTP requests\n",
        "\n",
        "The [aiohttp](https://github.com/aio-libs/aiohttp) library can be used. "
      ]
    },
    {
      "cell_type": "code",
      "metadata": {
        "colab": {
          "base_uri": "https://localhost:8080/"
        },
        "id": "Y56k_2dQGGpS",
        "outputId": "be161ab7-853c-4e5b-ec11-5bab2414d3f8"
      },
      "source": [
        "pip install aiohttp"
      ],
      "execution_count": 2,
      "outputs": [
        {
          "output_type": "stream",
          "name": "stdout",
          "text": [
            "Collecting aiohttp\n",
            "  Downloading aiohttp-3.7.4.post0-cp37-cp37m-manylinux2014_x86_64.whl (1.3 MB)\n",
            "\u001b[K     |████████████████████████████████| 1.3 MB 13.7 MB/s \n",
            "\u001b[?25hCollecting multidict<7.0,>=4.5\n",
            "  Downloading multidict-5.1.0-cp37-cp37m-manylinux2014_x86_64.whl (142 kB)\n",
            "\u001b[K     |████████████████████████████████| 142 kB 67.2 MB/s \n",
            "\u001b[?25hRequirement already satisfied: attrs>=17.3.0 in /usr/local/lib/python3.7/dist-packages (from aiohttp) (21.2.0)\n",
            "Requirement already satisfied: typing-extensions>=3.6.5 in /usr/local/lib/python3.7/dist-packages (from aiohttp) (3.7.4.3)\n",
            "Requirement already satisfied: chardet<5.0,>=2.0 in /usr/local/lib/python3.7/dist-packages (from aiohttp) (3.0.4)\n",
            "Collecting yarl<2.0,>=1.0\n",
            "  Downloading yarl-1.6.3-cp37-cp37m-manylinux2014_x86_64.whl (294 kB)\n",
            "\u001b[K     |████████████████████████████████| 294 kB 82.1 MB/s \n",
            "\u001b[?25hCollecting async-timeout<4.0,>=3.0\n",
            "  Downloading async_timeout-3.0.1-py3-none-any.whl (8.2 kB)\n",
            "Requirement already satisfied: idna>=2.0 in /usr/local/lib/python3.7/dist-packages (from yarl<2.0,>=1.0->aiohttp) (2.10)\n",
            "Installing collected packages: multidict, yarl, async-timeout, aiohttp\n",
            "Successfully installed aiohttp-3.7.4.post0 async-timeout-3.0.1 multidict-5.1.0 yarl-1.6.3\n"
          ]
        }
      ]
    },
    {
      "cell_type": "markdown",
      "metadata": {
        "id": "QFjRLbiVRkYk"
      },
      "source": [
        "Definition of the coroutine:"
      ]
    },
    {
      "cell_type": "code",
      "metadata": {
        "colab": {
          "base_uri": "https://localhost:8080/"
        },
        "id": "jLrbihWJQ_Fh",
        "outputId": "9911961b-62ad-4029-aecb-5e909ee6d3e3"
      },
      "source": [
        "import signal\n",
        "import sys\n",
        "import asyncio\n",
        "import aiohttp\n",
        "import json\n",
        "import time\n",
        "\n",
        "async def list_github_repos(username):\n",
        "  async with aiohttp.ClientSession() as session:\n",
        "    try:\n",
        "      async with session.get(f'https://api.github.com/users/{username}/repos') as response:\n",
        "        try:  \n",
        "          print(f'Response: {response.status}')\n",
        "          assert response.status == 200\n",
        "          result = await response.read()\n",
        "          repos_dict = json.loads(result.decode('utf-8'))\n",
        "          for repo in repos_dict:\n",
        "            print(repo['name'])\n",
        "        except:\n",
        "          print(\"error get\")\n",
        "    except:\n",
        "      print(\"error session\")\n",
        "\n",
        "async def main():\n",
        "  await list_github_repos('JM89')\n",
        "\n",
        "# Note that `asyncio.run()` cannot be called from a running event loop, and Jupyter notebook is already running an event loop.\n",
        "# asyncio.run(list_github_repos('JM89'))\n",
        "\n",
        "# Do no wait: sometimes it works sometimes it does not!\n",
        "asyncio.ensure_future(main()) "
      ],
      "execution_count": 46,
      "outputs": [
        {
          "output_type": "execute_result",
          "data": {
            "text/plain": [
              "<Task pending coro=<main() running at <ipython-input-46-9e4bbe42b60c>:24>>"
            ]
          },
          "metadata": {},
          "execution_count": 46
        },
        {
          "output_type": "stream",
          "name": "stdout",
          "text": [
            "Response: 200\n",
            "crash-courses\n",
            "jupyter-notebooks\n",
            "opentelemetry-dotnet\n",
            "personalfinancemanager\n",
            "pfm-reboot\n",
            "software-engineer-survival-guide\n",
            "test-akkanet\n",
            "test-distributed-tracing\n",
            "test-grpc\n",
            "test-nltk\n",
            "test-signalr\n"
          ]
        }
      ]
    },
    {
      "cell_type": "markdown",
      "metadata": {
        "id": "WAqP5mWGQ3z0"
      },
      "source": [
        ""
      ]
    }
  ]
}